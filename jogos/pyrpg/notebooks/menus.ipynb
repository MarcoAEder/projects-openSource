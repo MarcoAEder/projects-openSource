{
 "cells": [
  {
   "cell_type": "markdown",
   "metadata": {},
   "source": [
    "# Menus"
   ]
  },
  {
   "cell_type": "markdown",
   "metadata": {},
   "source": [
    "## Oculto"
   ]
  },
  {
   "cell_type": "code",
   "execution_count": null,
   "metadata": {},
   "outputs": [],
   "source": [
    "# -*- coding: utf-8 -*-\n",
    "#encoding: utf-8\n",
    "\n",
    "from IPython.display import clear_output    ## Biblioteca do Jupyter.\n",
    "import time\n",
    "import os\n",
    "\n",
    "def menu_principal():\n",
    "\t'''\n",
    "\t\tdesc.\n",
    "\t'''\n",
    "\n",
    "\topcoes_menu = [\"novo jogo\", \"carregar jogo\", \"configurações\", \"sair\"]\n",
    "\n",
    "\tprint(\"Selecione uma opção:\\n\")    # Mensagem.\n",
    "\tfor opcao, num_opcao in zip(opcoes_menu, range(0, len(opcoes_menu))):\n",
    "\t\tprint(\"{}. {}\".format(str(num_opcao + 1), opcao.upper()))\n",
    "\n",
    "\topcao_escolhida = input(\"Insira o Nº da opção: \")\n",
    "\tif opcao_escolhida == \"1\":\n",
    "\t\tprint(\"Inicia um novo jogo e inicia processo do geração de ficha do personagem...\") # geradorFichaPersonagem()\n",
    "\t\t\n",
    "\t\ttime.sleep(5)\n",
    "\t\tos.system('cls')    ## Limpa Console.\n",
    "\t\tclear_output()    ## Limpa console do JUPYTER.\n",
    "\n",
    "\telif opcao_escolhida == \"2\":\n",
    "\t\tprint(\"Carrega o save do jogo atual.\")\n",
    "\t\t\t\n",
    "\t\ttime.sleep(5)\n",
    "\t\tos.system('cls')    ## Limpa Console.\n",
    "\t\tclear_output()    ## Limpa console do JUPYTER.\n",
    "\n",
    "\telif opcao_escolhida == \"3\":\n",
    "\t\tprint(\"Abre novo menu para seleção de opções de configuração.\") # menu_opcao_idioma()\n",
    "\t\t\t\n",
    "\t\t# time.sleep(5)\n",
    "\t\t# os.system('cls')    ## Limpa Console.\n",
    "\t\t# clear_output()    ## Limpa console do JUPYTER.\n",
    "\n",
    "\telif opcao_escolhida == \"4\":\n",
    "\t\tprint(\"Encerra a execução do código.\") # os.system('quit')    # Encerra código.\n",
    "\n",
    "\telse:\n",
    "\t\tprint(\"ERRO - Opção inválida.\")\n",
    "\n",
    "\n",
    "def menu_opcao_idioma():\n",
    "\t'''\n",
    "\t\tdesc.\n",
    "\t'''\n",
    "\n",
    "\topcoes_idiomas = [\"português\", \"english\"]\n",
    "\tconfiguracoes = {}\n",
    "\n",
    "\tprint(\"\\nSelecione uma opção:\\n\")    # Mensagem.\n",
    "\tfor opcao, num_opcao in zip(opcoes_idiomas, range(0, len(opcoes_idiomas))):\n",
    "\t\tprint(\"{}. {}\".format(str(num_opcao + 1), opcao.upper()))\n",
    "\n",
    "\t# Imprimindo última opção ('Voltar').\n",
    "\tprint(f\"{len(opcoes_idiomas) + 1}. VOLTAR\")\n",
    "\n",
    "\topcao_escolhida = input(\"Insira o Nº da opção: \")\n",
    "\tif opcao_escolhida == \"1\":\n",
    "\t\tprint(\"\\nIdioma escolhido: Português\")\n",
    "\t\tconfiguracoes['idioma'] = 'pt-br'\n",
    "\t\t## TODO - VOLTAR AO MENU PRINCIPAL.\n",
    "\n",
    "\telif opcao_escolhida == \"2\":\n",
    "\t\tprint(\"\\nLanguage choosed: English\")\n",
    "\t\tconfiguracoes['idioma'] = 'en'\n",
    "\t\t## TODO - VOLTAR AO MENU PRINCIPAL.\n",
    "\n",
    "\telif opcao_escolhida == \"3\":\n",
    "\t\tprint(\"Volta para o menu principal.\")\n",
    "\t\t\n",
    "\t\ttime.sleep(5)\n",
    "\t\tos.system('cls')    ## Limpa Console.\n",
    "\t\tclear_output()    ## Limpa console do JUPYTER.\n",
    "\n",
    "\t\t# Executa a função 'menu_principal()'.\n",
    "\n",
    "\telse:\n",
    "\t\tprint(\"ERRO - Opção inválida.\")"
   ]
  },
  {
   "cell_type": "markdown",
   "metadata": {},
   "source": [
    "##"
   ]
  },
  {
   "cell_type": "code",
   "execution_count": 1,
   "metadata": {},
   "outputs": [],
   "source": [
    "import tkinter as tk\n",
    "import os"
   ]
  },
  {
   "cell_type": "code",
   "execution_count": 2,
   "metadata": {},
   "outputs": [
    {
     "name": "stdout",
     "output_type": "stream",
     "text": [
      "Botão clicado!\n",
      "Botão clicado!\n"
     ]
    }
   ],
   "source": [
    "def button_click():\n",
    "    print(\"Botão clicado!\")\n",
    "\n",
    "def fechar_janela():\n",
    "    janela.destroy()\n",
    "\n",
    "def habilitar_botao():\n",
    "    if os.path.exists('C:/Users/Ariel/Documents/Repositorios/Projetos-open/jogos/pyrpg/files/savegame.txt'):\n",
    "        return True\n",
    "    else:\n",
    "        return False\n",
    "\n",
    "# Cria a janela\n",
    "janela = tk.Tk()\n",
    "janela.title(\"PyRPG\")\n",
    "\n",
    "# Cria os botões\n",
    "bt_novo_jogo = tk.Button(janela, text = \"Novo Jogo\", command = button_click)\n",
    "bt_novo_jogo.pack()\n",
    "    ## Abrir outra janela.\n",
    "        ## Se houver um jogo existente, perguntar se quer sobrescever.\n",
    "\n",
    "if habilitar_botao() == True:\n",
    "    bt_carregar_jogo = tk.Button(janela, text = \"Carregar Jogo\", command = button_click, state=tk.ACTIVE)\n",
    "    bt_carregar_jogo.pack()\n",
    "\n",
    "else:\n",
    "    bt_carregar_jogo = tk.Button(janela, text = \"Carregar Jogo\", command = button_click, state=tk.DISABLED)\n",
    "    bt_carregar_jogo.pack()\n",
    "\n",
    "bt_config = tk.Button(janela, text = \"Configurações\", command = button_click)\n",
    "bt_config.pack()\n",
    "\n",
    "bt_sair = tk.Button(janela, text = \"Sair\", command = fechar_janela)\n",
    "bt_sair.pack()\n",
    "\n",
    "# Inicia o loop da janela\n",
    "janela.mainloop()"
   ]
  }
 ],
 "metadata": {
  "kernelspec": {
   "display_name": "pyrpg",
   "language": "python",
   "name": "python3"
  },
  "language_info": {
   "codemirror_mode": {
    "name": "ipython",
    "version": 3
   },
   "file_extension": ".py",
   "mimetype": "text/x-python",
   "name": "python",
   "nbconvert_exporter": "python",
   "pygments_lexer": "ipython3",
   "version": "3.11.8"
  }
 },
 "nbformat": 4,
 "nbformat_minor": 2
}
