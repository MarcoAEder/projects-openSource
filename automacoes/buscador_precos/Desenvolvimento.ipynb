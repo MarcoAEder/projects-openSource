{
 "cells": [
  {
   "cell_type": "markdown",
   "metadata": {},
   "source": [
    "# Documentação\n",
    "Notebook para desenvolvimento e testes do web scrapping \"Buscador preços\"."
   ]
  },
  {
   "cell_type": "markdown",
   "metadata": {},
   "source": [
    "## Importações: Bibliotecas e módulos"
   ]
  },
  {
   "cell_type": "code",
   "execution_count": 1,
   "metadata": {},
   "outputs": [],
   "source": [
    "from selenium import webdriver\n",
    "from time import sleep\n",
    "\n",
    "from selenium.webdriver.common.by import By\n",
    "from selenium.webdriver.common.action_chains import ActionChains\n",
    "from selenium.webdriver.common.keys import Keys"
   ]
  },
  {
   "cell_type": "markdown",
   "metadata": {},
   "source": [
    "## Arquivos JSON (dicionários)"
   ]
  },
  {
   "cell_type": "code",
   "execution_count": 4,
   "metadata": {},
   "outputs": [],
   "source": [
    "# TODO: Mudar formato para facilitar o acesso às páginas.\n",
    "sites = {'site': ['Amazon', 'Magazine Luiza', 'Mercado Livre'],\n",
    "         'url': ['https://www.amazon.com.br/', 'https://magazineluiza.com.br/', 'https://www.mercadolivre.com.br/'],\n",
    "         'elemento_pesquisa': ['//*[@id=\"twotabsearchtextbox\"]', '//*[@id=\"input-search\"]', '//*[@id=\"cb1-edit\"]']\n",
    "         }"
   ]
  },
  {
   "cell_type": "code",
   "execution_count": 5,
   "metadata": {},
   "outputs": [
    {
     "data": {
      "text/plain": [
       "{'site': ['Amazon', 'Magazine Luiza', 'Mercado Livre'],\n",
       " 'url': ['https://www.amazon.com.br/',\n",
       "  'https://magazineluiza.com.br/',\n",
       "  'https://www.mercadolivre.com.br/'],\n",
       " 'elemento_pesquisa': ['//*[@id=\"twotabsearchtextbox\"]',\n",
       "  '//*[@id=\"input-search\"]',\n",
       "  '//*[@id=\"cb1-edit\"]']}"
      ]
     },
     "execution_count": 5,
     "metadata": {},
     "output_type": "execute_result"
    }
   ],
   "source": [
    "sites"
   ]
  },
  {
   "cell_type": "markdown",
   "metadata": {},
   "source": [
    "## Classes, módulos e funções"
   ]
  },
  {
   "cell_type": "code",
   "execution_count": 9,
   "metadata": {},
   "outputs": [],
   "source": [
    "def acesso_pagina(sites, indx):\n",
    "   driver.get(sites['url'][indx])\n",
    "\n",
    "def pesquisa_produto(sites, indx, produto):\n",
    "   # Clica na barra 'pesquisa' e digita o produto.\n",
    "   driver.find_element(By.XPATH, sites['elemento_pesquisa'][indx]).send_keys(produto)\n",
    "\n",
    "   # Aperta botão 'ENTER'.\n",
    "   ActionChains(driver).send_keys(Keys.ENTER).perform()"
   ]
  },
  {
   "cell_type": "markdown",
   "metadata": {},
   "source": [
    "## Arquivo principal (main.py)"
   ]
  },
  {
   "cell_type": "code",
   "execution_count": 10,
   "metadata": {},
   "outputs": [],
   "source": [
    "# Definindo parâmetros.\n",
    "produto = input('Produto: ').lower()\n",
    "\n",
    "## Firefox\n",
    "options = webdriver.FirefoxOptions()\n",
    "driver = webdriver.Firefox(options=options)\n",
    "\n",
    "for indx in range(0, len(sites.keys())): # NOTE: Talvez um 'WHILE'?\n",
    "\n",
    "   # Acessando página.\n",
    "   acesso_pagina(sites, indx)\n",
    "\n",
    "   # Pesquisando produto.\n",
    "   pesquisa_produto(sites, indx, produto)\n",
    "\n",
    "   # Acessa próxima página (IF TRUE).\n",
    "   # proxima_pagina()\n",
    "\n",
    "   # NOTE: Extrair dados com BeautifulSoup.\n",
    "   # Extração dos dados.\n",
    "   # extrat_dados()\n",
    "\n",
    "sleep(5)\n",
    "\n",
    "driver.quit()"
   ]
  }
 ],
 "metadata": {
  "kernelspec": {
   "display_name": "buscador_produtos",
   "language": "python",
   "name": "python3"
  },
  "language_info": {
   "codemirror_mode": {
    "name": "ipython",
    "version": 3
   },
   "file_extension": ".py",
   "mimetype": "text/x-python",
   "name": "python",
   "nbconvert_exporter": "python",
   "pygments_lexer": "ipython3",
   "version": "3.9.18"
  },
  "orig_nbformat": 4
 },
 "nbformat": 4,
 "nbformat_minor": 2
}
