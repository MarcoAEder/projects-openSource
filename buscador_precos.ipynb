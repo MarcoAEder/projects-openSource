{
  "nbformat": 4,
  "nbformat_minor": 0,
  "metadata": {
    "colab": {
      "provenance": [],
      "authorship_tag": "ABX9TyO/3Cdi+JdioXvm2MQPT0e0",
      "include_colab_link": true
    },
    "kernelspec": {
      "name": "python3",
      "display_name": "Python 3"
    },
    "language_info": {
      "name": "python"
    }
  },
  "cells": [
    {
      "cell_type": "markdown",
      "metadata": {
        "id": "view-in-github",
        "colab_type": "text"
      },
      "source": [
        "<a href=\"https://colab.research.google.com/github/MarcoAEder/projects-openSource/blob/main/buscador_precos.ipynb\" target=\"_parent\"><img src=\"https://colab.research.google.com/assets/colab-badge.svg\" alt=\"Open In Colab\"/></a>"
      ]
    },
    {
      "cell_type": "markdown",
      "source": [
        "# Buscador de preços\n",
        "Automação/*web scrapping* direcionada a buscar preços de um produto específico em um ou mais sites e retornar um compilado dos preços para análise posterior.\n",
        "\n",
        "## Ideias: (TODO: Arrumar/refinar texto).\n",
        "* Opção: \"Tipo produto\" para ter buscar em sites específicos daquele tipo de produto. Ex.: Tipo produto: Hardware e buscar em sites como Kabum, PCYes, etc.\n",
        "* Utilizar navegadores variados como: Google Chrome e Firefox.\n",
        "* Elaborar um sistema de organização dos dados coletados em planilhas e efetuar dashbords e sugestões baseados nos dados coletados (C.D);\n",
        "* Lista de desejos;\n",
        "\t* Uma lista para armazenamento de produtos que tem interesse em comprar em algum momento.\n",
        "* Dashboards;\n",
        "\t* Dashborads para visualização, semanal ou mensalmente as variações de preços dos produtos.\n",
        "* Base de dados;\n",
        "\t* Perfis - usuários e/ou emails p/ envio de relatórios.\n",
        "* Exportações;\n",
        "\t* Arq. Planilhas;\n",
        "\t* Email."
      ],
      "metadata": {
        "id": "mYxmlli2rIQJ"
      }
    },
    {
      "cell_type": "markdown",
      "source": [
        "## Requisitos\n",
        "* Python 3.11.9\n",
        "* Selenium 0.0.0"
      ],
      "metadata": {
        "id": "amUz1EU4rbhS"
      }
    },
    {
      "cell_type": "code",
      "source": [],
      "metadata": {
        "id": "rOaOzFXqrqGz"
      },
      "execution_count": null,
      "outputs": []
    },
    {
      "cell_type": "code",
      "source": [],
      "metadata": {
        "id": "tWhnJ9C1rvSQ"
      },
      "execution_count": null,
      "outputs": []
    },
    {
      "cell_type": "code",
      "source": [],
      "metadata": {
        "id": "1tgTRvA0rvUl"
      },
      "execution_count": null,
      "outputs": []
    }
  ]
}