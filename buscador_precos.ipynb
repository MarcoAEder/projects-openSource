{
  "nbformat": 4,
  "nbformat_minor": 0,
  "metadata": {
    "colab": {
      "provenance": [],
      "authorship_tag": "ABX9TyNDK0hzWqRe+MqbfK3srftf"
    },
    "kernelspec": {
      "name": "python3",
      "display_name": "Python 3"
    },
    "language_info": {
      "name": "python"
    }
  },
  "cells": [
    {
      "cell_type": "markdown",
      "source": [
        "# Buscador de preços\n",
        "Automação/*webs crapping* direcionada a buscar preços de um produto específico em um ou mais sites e retornar um compilado dos preços para análise posterior."
      ],
      "metadata": {
        "id": "mYxmlli2rIQJ"
      }
    },
    {
      "cell_type": "markdown",
      "source": [
        "## Requisitos\n",
        "* Python 3.11.9\n",
        "* Selenium 0.0.0"
      ],
      "metadata": {
        "id": "amUz1EU4rbhS"
      }
    },
    {
      "cell_type": "code",
      "source": [],
      "metadata": {
        "id": "rOaOzFXqrqGz"
      },
      "execution_count": null,
      "outputs": []
    },
    {
      "cell_type": "code",
      "source": [],
      "metadata": {
        "id": "tWhnJ9C1rvSQ"
      },
      "execution_count": null,
      "outputs": []
    },
    {
      "cell_type": "code",
      "source": [],
      "metadata": {
        "id": "1tgTRvA0rvUl"
      },
      "execution_count": null,
      "outputs": []
    }
  ]
}